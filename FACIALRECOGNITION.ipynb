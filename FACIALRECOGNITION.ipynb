{
  "nbformat": 4,
  "nbformat_minor": 0,
  "metadata": {
    "colab": {
      "provenance": [],
      "gpuType": "T4",
      "mount_file_id": "1hadjTgYHWcdVhJfxtcDDIYnDfP8l8F_e",
      "authorship_tag": "ABX9TyNxvi5TAar8GddIDXQfkyc7",
      "include_colab_link": true
    },
    "kernelspec": {
      "name": "python3",
      "display_name": "Python 3"
    },
    "language_info": {
      "name": "python"
    },
    "accelerator": "GPU"
  },
  "cells": [
    {
      "cell_type": "markdown",
      "metadata": {
        "id": "view-in-github",
        "colab_type": "text"
      },
      "source": [
        "<a href=\"https://colab.research.google.com/github/Brandonj171/Brandonj171/blob/main/FACIALRECOGNITION.ipynb\" target=\"_parent\"><img src=\"https://colab.research.google.com/assets/colab-badge.svg\" alt=\"Open In Colab\"/></a>"
      ]
    },
    {
      "cell_type": "code",
      "source": [
        "import torch\n",
        "print(\"CUDA Available:\", torch.cuda.is_available())\n",
        "print(\"CUDA Device Count:\", torch.cuda.device_count())\n",
        "print(\"CUDA Device Name:\", torch.cuda.get_device_name(0))\n",
        "import zipfile\n",
        "import os\n",
        "\n",
        "zip_path = \"/content/drive/MyDrive/known (3).zip\"\n",
        "extract_folder = \"/content/known\"\n",
        "\n",
        "os.makedirs(extract_folder, exist_ok=True)\n",
        "\n",
        "with zipfile.ZipFile(zip_path, 'r') as zip_ref:\n",
        "    zip_ref.extractall(extract_folder)\n",
        "\n",
        "\n",
        "print(\"Extracted files:\", os.listdir(extract_folder))\n",
        "\n",
        "zip_path = \"/content/drive/MyDrive/unknown.zip\"\n",
        "extract_folder = \"/content/unknown\"\n",
        "\n",
        "os.makedirs(extract_folder, exist_ok=True)\n",
        "\n",
        "with zipfile.ZipFile(zip_path, 'r') as zip_ref:\n",
        "    zip_ref.extractall(extract_folder)\n",
        "\n",
        "print(\"Extracted files:\", os.listdir(extract_folder))\n"
      ],
      "metadata": {
        "id": "B5Ld7XbXQEfh",
        "colab": {
          "base_uri": "https://localhost:8080/"
        },
        "outputId": "5a53264e-4dde-41ff-9ad0-682089a7483f"
      },
      "execution_count": 3,
      "outputs": [
        {
          "output_type": "stream",
          "name": "stdout",
          "text": [
            "CUDA Available: True\n",
            "CUDA Device Count: 1\n",
            "CUDA Device Name: Tesla T4\n",
            "Extracted files: ['known']\n",
            "Extracted files: ['unknown']\n"
          ]
        }
      ]
    },
    {
      "cell_type": "code",
      "source": [
        "!pip install face_recognition --no-binary :all:"
      ],
      "metadata": {
        "id": "6haXRk3Wu7CY",
        "colab": {
          "base_uri": "https://localhost:8080/"
        },
        "outputId": "386ccb48-2f23-4a18-a520-6cfb7a77eee2"
      },
      "execution_count": 4,
      "outputs": [
        {
          "output_type": "stream",
          "name": "stdout",
          "text": [
            "Collecting face_recognition\n",
            "  Downloading face_recognition-1.3.0.tar.gz (3.2 MB)\n",
            "\u001b[2K     \u001b[90m━━━━━━━━━━━━━━━━━━━━━━━━━━━━━━━━━━━━━━━━\u001b[0m \u001b[32m3.2/3.2 MB\u001b[0m \u001b[31m12.7 MB/s\u001b[0m eta \u001b[36m0:00:00\u001b[0m\n",
            "\u001b[?25h  Preparing metadata (setup.py) ... \u001b[?25l\u001b[?25hdone\n",
            "Collecting face_recognition_models>=0.3.0 (from face_recognition)\n",
            "  Downloading face_recognition_models-0.3.0.tar.gz (100.1 MB)\n",
            "\u001b[2K     \u001b[90m━━━━━━━━━━━━━━━━━━━━━━━━━━━━━━━━━━━━━━━━\u001b[0m \u001b[32m100.1/100.1 MB\u001b[0m \u001b[31m8.6 MB/s\u001b[0m eta \u001b[36m0:00:00\u001b[0m\n",
            "\u001b[?25h  Preparing metadata (setup.py) ... \u001b[?25l\u001b[?25hdone\n",
            "Requirement already satisfied: Click>=6.0 in /usr/local/lib/python3.11/dist-packages (from face_recognition) (8.1.8)\n",
            "Requirement already satisfied: dlib>=19.7 in /usr/local/lib/python3.11/dist-packages (from face_recognition) (19.24.2)\n",
            "Requirement already satisfied: numpy in /usr/local/lib/python3.11/dist-packages (from face_recognition) (1.26.4)\n",
            "Requirement already satisfied: Pillow in /usr/local/lib/python3.11/dist-packages (from face_recognition) (11.1.0)\n",
            "Building wheels for collected packages: face_recognition, face_recognition_models\n",
            "  Building wheel for face_recognition (setup.py) ... \u001b[?25l\u001b[?25hdone\n",
            "  Created wheel for face_recognition: filename=face_recognition-1.3.0-py2.py3-none-any.whl size=15518 sha256=bd96552b36dcf60dad9fe11df00e968d37d69da6d80caee8a654e8f8d7dd1d2c\n",
            "  Stored in directory: /root/.cache/pip/wheels/44/cf/bc/ea4cdfe6f25d298e6c4e0c0da7bbcd1efdc98b7e0c12809805\n",
            "  Building wheel for face_recognition_models (setup.py) ... \u001b[?25l\u001b[?25hdone\n",
            "  Created wheel for face_recognition_models: filename=face_recognition_models-0.3.0-py2.py3-none-any.whl size=100566162 sha256=96ad0fe81edb80e07a7c8d86d607f59c088cd550f01dd3c2b6011e8f6bbb9525\n",
            "  Stored in directory: /root/.cache/pip/wheels/04/52/ec/9355da79c29f160b038a20c784db2803c2f9fa2c8a462c176a\n",
            "Successfully built face_recognition face_recognition_models\n",
            "Installing collected packages: face_recognition_models, face_recognition\n",
            "Successfully installed face_recognition-1.3.0 face_recognition_models-0.3.0\n"
          ]
        }
      ]
    },
    {
      "cell_type": "code",
      "source": [
        "import os\n",
        "import cv2\n",
        "import face_recognition\n",
        "from google.colab.patches import cv2_imshow\n",
        "\n",
        "\n",
        "!pip install cmake\n",
        "!pip install dlib\n",
        "!pip install face_recognition\n",
        "\n",
        "def read_img(path):\n",
        "    img = cv2.imread(path)\n",
        "    if img is None:\n",
        "        print(f\"Error: Could not read image at {path}\")\n",
        "        return None\n",
        "    img_rgb = cv2.cvtColor(img, cv2.COLOR_BGR2RGB)\n",
        "    (h, w) = img_rgb.shape[:2]\n",
        "    width = 500\n",
        "    ratio = width / float(w)\n",
        "    height = int(h * ratio)\n",
        "    return cv2.resize(img_rgb, (width, height))\n",
        "\n",
        "\n",
        "known_dir = \"/content/known/known\"\n",
        "unknown_dir = \"/content/unknown/unknown\"\n",
        "\n",
        "\n",
        "known_encodings = []\n",
        "known_names = []\n",
        "\n",
        "print(\"Loading known faces...\")\n",
        "\n",
        "\n",
        "for file in os.listdir(known_dir):\n",
        "    file_path = os.path.join(known_dir, file)\n",
        "    if file.lower().endswith(('.png', '.jpg', '.jpeg')):\n",
        "        img = read_img(file_path)\n",
        "        if img is not None:\n",
        "\n",
        "            face_locations = face_recognition.face_locations(img, model=\"hog\")\n",
        "\n",
        "            encodings = face_recognition.face_encodings(img, face_locations)\n",
        "            if encodings:  # Ensure at least one face was found\n",
        "                known_encodings.append(encodings[0])\n",
        "                known_names.append(file.split('.')[0])\n",
        "\n",
        "print(\"Known faces loaded!\")\n",
        "\n",
        "\n",
        "print(\"Processing unknown faces...\")\n",
        "\n",
        "for file in os.listdir(unknown_dir):\n",
        "    file_path = os.path.join(unknown_dir, file)\n",
        "    if file.lower().endswith(('.png', '.jpg', '.jpeg')):\n",
        "        img = read_img(file_path)\n",
        "        if img is not None:\n",
        "\n",
        "            face_locations = face_recognition.face_locations(img, model=\"hog\")\n",
        "\n",
        "            encodings = face_recognition.face_encodings(img, face_locations)\n",
        "\n",
        "            for face_encoding, face_location in zip(encodings, face_locations):\n",
        "                matches = face_recognition.compare_faces(known_encodings, face_encoding)\n",
        "                name = \"Unknown\"\n",
        "\n",
        "\n",
        "                face_distances = face_recognition.face_distance(known_encodings, face_encoding)\n",
        "                best_match_index = face_distances.argmin() if len(face_distances) > 0 else -1\n",
        "\n",
        "                if best_match_index != -1 and matches[best_match_index]:\n",
        "                    name = known_names[best_match_index]\n",
        "\n",
        "                print(f\"Match found: {name} for {file}\")\n",
        "\n",
        "\n",
        "                top, right, bottom, left = face_location\n",
        "                cv2.rectangle(img, (left, top), (right, bottom), (0, 0, 255), 2)\n",
        "                cv2.putText(img, name, (left + 2, bottom + 20), cv2.FONT_HERSHEY_PLAIN, 1, (255, 255, 255), 1)\n",
        "\n",
        "\n",
        "            cv2_imshow(img)\n",
        "\n",
        "print(\"Face recognition process completed!\")\n"
      ],
      "metadata": {
        "id": "O6QENvMtJ5-X",
        "colab": {
          "base_uri": "https://localhost:8080/",
          "height": 530
        },
        "outputId": "f5c2420e-9bb2-40db-c876-fc8aa084423e"
      },
      "execution_count": 8,
      "outputs": [
        {
          "output_type": "stream",
          "name": "stdout",
          "text": [
            "Requirement already satisfied: cmake in /usr/local/lib/python3.11/dist-packages (3.31.6)\n",
            "Requirement already satisfied: dlib in /usr/local/lib/python3.11/dist-packages (19.24.2)\n",
            "Requirement already satisfied: face_recognition in /usr/local/lib/python3.11/dist-packages (1.3.0)\n",
            "Requirement already satisfied: face-recognition-models>=0.3.0 in /usr/local/lib/python3.11/dist-packages (from face_recognition) (0.3.0)\n",
            "Requirement already satisfied: Click>=6.0 in /usr/local/lib/python3.11/dist-packages (from face_recognition) (8.1.8)\n",
            "Requirement already satisfied: dlib>=19.7 in /usr/local/lib/python3.11/dist-packages (from face_recognition) (19.24.2)\n",
            "Requirement already satisfied: numpy in /usr/local/lib/python3.11/dist-packages (from face_recognition) (1.26.4)\n",
            "Requirement already satisfied: Pillow in /usr/local/lib/python3.11/dist-packages (from face_recognition) (11.1.0)\n",
            "Loading known faces...\n"
          ]
        },
        {
          "output_type": "error",
          "ename": "RuntimeError",
          "evalue": "Error while calling cudaOccupancyMaxPotentialBlockSize(&num_blocks,&num_threads,K) in file /root/.cache/uv/sdists-v7/pypi/dlib/19.24.2/E9Wx9I3vvzl2i4p_gKg0d/src/dlib/cuda/cuda_utils.h:186. code: 222, reason: the provided PTX was compiled with an unsupported toolchain.",
          "traceback": [
            "\u001b[0;31m---------------------------------------------------------------------------\u001b[0m",
            "\u001b[0;31mRuntimeError\u001b[0m                              Traceback (most recent call last)",
            "\u001b[0;32m<ipython-input-8-a51ad3d43d1f>\u001b[0m in \u001b[0;36m<cell line: 0>\u001b[0;34m()\u001b[0m\n\u001b[1;32m     40\u001b[0m             \u001b[0mface_locations\u001b[0m \u001b[0;34m=\u001b[0m \u001b[0mface_recognition\u001b[0m\u001b[0;34m.\u001b[0m\u001b[0mface_locations\u001b[0m\u001b[0;34m(\u001b[0m\u001b[0mimg\u001b[0m\u001b[0;34m,\u001b[0m \u001b[0mmodel\u001b[0m\u001b[0;34m=\u001b[0m\u001b[0;34m\"hog\"\u001b[0m\u001b[0;34m)\u001b[0m\u001b[0;34m\u001b[0m\u001b[0;34m\u001b[0m\u001b[0m\n\u001b[1;32m     41\u001b[0m \u001b[0;34m\u001b[0m\u001b[0m\n\u001b[0;32m---> 42\u001b[0;31m             \u001b[0mencodings\u001b[0m \u001b[0;34m=\u001b[0m \u001b[0mface_recognition\u001b[0m\u001b[0;34m.\u001b[0m\u001b[0mface_encodings\u001b[0m\u001b[0;34m(\u001b[0m\u001b[0mimg\u001b[0m\u001b[0;34m,\u001b[0m \u001b[0mface_locations\u001b[0m\u001b[0;34m)\u001b[0m\u001b[0;34m\u001b[0m\u001b[0;34m\u001b[0m\u001b[0m\n\u001b[0m\u001b[1;32m     43\u001b[0m             \u001b[0;32mif\u001b[0m \u001b[0mencodings\u001b[0m\u001b[0;34m:\u001b[0m  \u001b[0;31m# Ensure at least one face was found\u001b[0m\u001b[0;34m\u001b[0m\u001b[0;34m\u001b[0m\u001b[0m\n\u001b[1;32m     44\u001b[0m                 \u001b[0mknown_encodings\u001b[0m\u001b[0;34m.\u001b[0m\u001b[0mappend\u001b[0m\u001b[0;34m(\u001b[0m\u001b[0mencodings\u001b[0m\u001b[0;34m[\u001b[0m\u001b[0;36m0\u001b[0m\u001b[0;34m]\u001b[0m\u001b[0;34m)\u001b[0m\u001b[0;34m\u001b[0m\u001b[0;34m\u001b[0m\u001b[0m\n",
            "\u001b[0;32m/usr/local/lib/python3.11/dist-packages/face_recognition/api.py\u001b[0m in \u001b[0;36mface_encodings\u001b[0;34m(face_image, known_face_locations, num_jitters, model)\u001b[0m\n\u001b[1;32m    212\u001b[0m     \"\"\"\n\u001b[1;32m    213\u001b[0m     \u001b[0mraw_landmarks\u001b[0m \u001b[0;34m=\u001b[0m \u001b[0m_raw_face_landmarks\u001b[0m\u001b[0;34m(\u001b[0m\u001b[0mface_image\u001b[0m\u001b[0;34m,\u001b[0m \u001b[0mknown_face_locations\u001b[0m\u001b[0;34m,\u001b[0m \u001b[0mmodel\u001b[0m\u001b[0;34m)\u001b[0m\u001b[0;34m\u001b[0m\u001b[0;34m\u001b[0m\u001b[0m\n\u001b[0;32m--> 214\u001b[0;31m     \u001b[0;32mreturn\u001b[0m \u001b[0;34m[\u001b[0m\u001b[0mnp\u001b[0m\u001b[0;34m.\u001b[0m\u001b[0marray\u001b[0m\u001b[0;34m(\u001b[0m\u001b[0mface_encoder\u001b[0m\u001b[0;34m.\u001b[0m\u001b[0mcompute_face_descriptor\u001b[0m\u001b[0;34m(\u001b[0m\u001b[0mface_image\u001b[0m\u001b[0;34m,\u001b[0m \u001b[0mraw_landmark_set\u001b[0m\u001b[0;34m,\u001b[0m \u001b[0mnum_jitters\u001b[0m\u001b[0;34m)\u001b[0m\u001b[0;34m)\u001b[0m \u001b[0;32mfor\u001b[0m \u001b[0mraw_landmark_set\u001b[0m \u001b[0;32min\u001b[0m \u001b[0mraw_landmarks\u001b[0m\u001b[0;34m]\u001b[0m\u001b[0;34m\u001b[0m\u001b[0;34m\u001b[0m\u001b[0m\n\u001b[0m\u001b[1;32m    215\u001b[0m \u001b[0;34m\u001b[0m\u001b[0m\n\u001b[1;32m    216\u001b[0m \u001b[0;34m\u001b[0m\u001b[0m\n",
            "\u001b[0;32m/usr/local/lib/python3.11/dist-packages/face_recognition/api.py\u001b[0m in \u001b[0;36m<listcomp>\u001b[0;34m(.0)\u001b[0m\n\u001b[1;32m    212\u001b[0m     \"\"\"\n\u001b[1;32m    213\u001b[0m     \u001b[0mraw_landmarks\u001b[0m \u001b[0;34m=\u001b[0m \u001b[0m_raw_face_landmarks\u001b[0m\u001b[0;34m(\u001b[0m\u001b[0mface_image\u001b[0m\u001b[0;34m,\u001b[0m \u001b[0mknown_face_locations\u001b[0m\u001b[0;34m,\u001b[0m \u001b[0mmodel\u001b[0m\u001b[0;34m)\u001b[0m\u001b[0;34m\u001b[0m\u001b[0;34m\u001b[0m\u001b[0m\n\u001b[0;32m--> 214\u001b[0;31m     \u001b[0;32mreturn\u001b[0m \u001b[0;34m[\u001b[0m\u001b[0mnp\u001b[0m\u001b[0;34m.\u001b[0m\u001b[0marray\u001b[0m\u001b[0;34m(\u001b[0m\u001b[0mface_encoder\u001b[0m\u001b[0;34m.\u001b[0m\u001b[0mcompute_face_descriptor\u001b[0m\u001b[0;34m(\u001b[0m\u001b[0mface_image\u001b[0m\u001b[0;34m,\u001b[0m \u001b[0mraw_landmark_set\u001b[0m\u001b[0;34m,\u001b[0m \u001b[0mnum_jitters\u001b[0m\u001b[0;34m)\u001b[0m\u001b[0;34m)\u001b[0m \u001b[0;32mfor\u001b[0m \u001b[0mraw_landmark_set\u001b[0m \u001b[0;32min\u001b[0m \u001b[0mraw_landmarks\u001b[0m\u001b[0;34m]\u001b[0m\u001b[0;34m\u001b[0m\u001b[0;34m\u001b[0m\u001b[0m\n\u001b[0m\u001b[1;32m    215\u001b[0m \u001b[0;34m\u001b[0m\u001b[0m\n\u001b[1;32m    216\u001b[0m \u001b[0;34m\u001b[0m\u001b[0m\n",
            "\u001b[0;31mRuntimeError\u001b[0m: Error while calling cudaOccupancyMaxPotentialBlockSize(&num_blocks,&num_threads,K) in file /root/.cache/uv/sdists-v7/pypi/dlib/19.24.2/E9Wx9I3vvzl2i4p_gKg0d/src/dlib/cuda/cuda_utils.h:186. code: 222, reason: the provided PTX was compiled with an unsupported toolchain."
          ]
        }
      ]
    },
    {
      "cell_type": "code",
      "source": [],
      "metadata": {
        "id": "UqBB-VD7VZme"
      },
      "execution_count": null,
      "outputs": []
    }
  ]
}